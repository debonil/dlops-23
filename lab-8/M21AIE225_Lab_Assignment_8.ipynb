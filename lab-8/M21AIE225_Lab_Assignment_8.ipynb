{
  "cells": [
    {
      "cell_type": "markdown",
      "metadata": {
        "id": "MtKAwQzURc5p"
      },
      "source": [
        "#### DL/DLOps (2023)\n",
        "\n",
        "# Lab Assignment 8: Weights & Biases\n",
        "\n",
        "Submitted By **Debonil Ghosh [ M21AIE225 ]**"
      ]
    },
    {
      "cell_type": "markdown",
      "metadata": {
        "id": "Fq-yMYe4ShIH"
      },
      "source": [
        "**Question 1 [100 marks]**\n",
        "\n",
        "Train a ResNet18 model for classification on even classes of CIFAR-10 (for  students with even roll no)/ odd classes of FashionMNIST (for students with odd roll no) for 30 epochs. Analyze the training of model using wandb library and “weights & biases” tool covered in the class."
      ]
    },
    {
      "cell_type": "code",
      "execution_count": 1,
      "metadata": {
        "id": "2lx9RXkcXOrZ"
      },
      "outputs": [],
      "source": [
        "!pip install wandb -qU\n"
      ]
    },
    {
      "cell_type": "code",
      "execution_count": 2,
      "metadata": {
        "colab": {
          "base_uri": "https://localhost:8080/"
        },
        "id": "zkqOWcQPXYgw",
        "outputId": "db2d2566-6f57-4596-819b-9fabeecda8d0"
      },
      "outputs": [
        {
          "output_type": "stream",
          "name": "stderr",
          "text": [
            "\u001b[34m\u001b[1mwandb\u001b[0m: Currently logged in as: \u001b[33mghosh-11\u001b[0m. Use \u001b[1m`wandb login --relogin`\u001b[0m to force relogin\n"
          ]
        },
        {
          "output_type": "execute_result",
          "data": {
            "text/plain": [
              "True"
            ]
          },
          "metadata": {},
          "execution_count": 2
        }
      ],
      "source": [
        "# Log in to your W&B account\n",
        "import wandb\n",
        "wandb.login()\n"
      ]
    },
    {
      "cell_type": "code",
      "execution_count": 3,
      "metadata": {
        "id": "q4R27LUsggPN"
      },
      "outputs": [],
      "source": [
        "import torch\n",
        "import torch.nn\n",
        "import torch.optim\n",
        "import torch.utils.data\n",
        "import torchvision.datasets\n",
        "import torchvision.models\n",
        "import torchvision.transforms as T\n",
        "from sklearn import metrics\n",
        "import seaborn as sns\n",
        "import time\n",
        "import math\n",
        "import numpy as np\n",
        "import matplotlib.pyplot as plt\n"
      ]
    },
    {
      "cell_type": "code",
      "execution_count": 4,
      "metadata": {
        "colab": {
          "base_uri": "https://localhost:8080/"
        },
        "id": "vcFTwuyPgjt3",
        "outputId": "413d05c2-8453-4657-9d69-64ace8772977"
      },
      "outputs": [
        {
          "output_type": "stream",
          "name": "stdout",
          "text": [
            "Available device ==> cuda:0\n"
          ]
        }
      ],
      "source": [
        "device = torch.device('cuda:0' if torch.cuda.is_available() else 'cpu')\n",
        "print(f'Available device ==> {device}')\n"
      ]
    },
    {
      "cell_type": "markdown",
      "metadata": {
        "id": "uB5mAPOhj3Vj"
      },
      "source": [
        "Filtering other than ODD classes 1,3,5,7,9 as roll number is odd (M21AIE225)"
      ]
    },
    {
      "cell_type": "code",
      "execution_count": 5,
      "metadata": {
        "id": "tIvOTnfyjqm7"
      },
      "outputs": [],
      "source": [
        "def filter_dataset(dataset_full):\n",
        "    # Selecting ODD classes 1,3,5,7,9 as roll number is odd (M21AIE225)\n",
        "    targets = np.array(dataset_full.targets)\n",
        "    idx = (targets == 1) | (targets == 3) | (\n",
        "        targets == 5) | (targets == 7) | (targets == 9)\n",
        "    dataset_full.targets = np.floor(targets[idx]/2).astype(int)\n",
        "    dataset_full.data = dataset_full.data[idx]\n",
        "    dataset_full.classes = [dataset_full.classes[c] for c in [1, 3, 5, 7, 9]]\n",
        "    return dataset_full\n"
      ]
    },
    {
      "cell_type": "markdown",
      "metadata": {
        "id": "-CQPhGVtTK3N"
      },
      "source": [
        "Dataset is **FashionMNIST** as roll number is odd"
      ]
    },
    {
      "cell_type": "code",
      "execution_count": 6,
      "metadata": {
        "colab": {
          "base_uri": "https://localhost:8080/"
        },
        "id": "H87KoAc_grpn",
        "outputId": "da5b1d28-6041-4ec5-834d-800c689c85eb"
      },
      "outputs": [
        {
          "output_type": "stream",
          "name": "stdout",
          "text": [
            "torch.Size([30000, 28, 28])\n",
            "['Trouser', 'Dress', 'Sandal', 'Sneaker', 'Ankle boot']\n"
          ]
        }
      ],
      "source": [
        "transform = T.Compose(\n",
        "    [T.ToTensor(),\n",
        "        T.Normalize((0.5,), (0.5,))])\n",
        "train_set = torchvision.datasets.FashionMNIST(\n",
        "    root='./data', train=True, download=True, transform=transform)\n",
        "train_set = filter_dataset(train_set)\n",
        "trainloader = torch.utils.data.DataLoader(\n",
        "    train_set, batch_size=32, shuffle=True)\n",
        "test_set = torchvision.datasets.FashionMNIST(\n",
        "    root='./data', train=False, download=True, transform=transform)\n",
        "test_set = filter_dataset(test_set)\n",
        "testloader = torch.utils.data.DataLoader(test_set, batch_size=32, shuffle=True)\n",
        "print(train_set.data.shape)\n",
        "print(train_set.classes)\n"
      ]
    },
    {
      "cell_type": "code",
      "execution_count": 7,
      "metadata": {
        "colab": {
          "base_uri": "https://localhost:8080/"
        },
        "id": "9iciG2lYhZBN",
        "outputId": "c8ba634b-f6b9-4601-a2dc-47cfcebf1ce7"
      },
      "outputs": [
        {
          "output_type": "stream",
          "name": "stdout",
          "text": [
            "ResNet(\n",
            "  (conv1): Conv2d(1, 64, kernel_size=(7, 7), stride=(2, 2), padding=(3, 3), bias=False)\n",
            "  (bn1): BatchNorm2d(64, eps=1e-05, momentum=0.1, affine=True, track_running_stats=True)\n",
            "  (relu): ReLU(inplace=True)\n",
            "  (maxpool): MaxPool2d(kernel_size=3, stride=2, padding=1, dilation=1, ceil_mode=False)\n",
            "  (layer1): Sequential(\n",
            "    (0): BasicBlock(\n",
            "      (conv1): Conv2d(64, 64, kernel_size=(3, 3), stride=(1, 1), padding=(1, 1), bias=False)\n",
            "      (bn1): BatchNorm2d(64, eps=1e-05, momentum=0.1, affine=True, track_running_stats=True)\n",
            "      (relu): ReLU(inplace=True)\n",
            "      (conv2): Conv2d(64, 64, kernel_size=(3, 3), stride=(1, 1), padding=(1, 1), bias=False)\n",
            "      (bn2): BatchNorm2d(64, eps=1e-05, momentum=0.1, affine=True, track_running_stats=True)\n",
            "    )\n",
            "    (1): BasicBlock(\n",
            "      (conv1): Conv2d(64, 64, kernel_size=(3, 3), stride=(1, 1), padding=(1, 1), bias=False)\n",
            "      (bn1): BatchNorm2d(64, eps=1e-05, momentum=0.1, affine=True, track_running_stats=True)\n",
            "      (relu): ReLU(inplace=True)\n",
            "      (conv2): Conv2d(64, 64, kernel_size=(3, 3), stride=(1, 1), padding=(1, 1), bias=False)\n",
            "      (bn2): BatchNorm2d(64, eps=1e-05, momentum=0.1, affine=True, track_running_stats=True)\n",
            "    )\n",
            "  )\n",
            "  (layer2): Sequential(\n",
            "    (0): BasicBlock(\n",
            "      (conv1): Conv2d(64, 128, kernel_size=(3, 3), stride=(2, 2), padding=(1, 1), bias=False)\n",
            "      (bn1): BatchNorm2d(128, eps=1e-05, momentum=0.1, affine=True, track_running_stats=True)\n",
            "      (relu): ReLU(inplace=True)\n",
            "      (conv2): Conv2d(128, 128, kernel_size=(3, 3), stride=(1, 1), padding=(1, 1), bias=False)\n",
            "      (bn2): BatchNorm2d(128, eps=1e-05, momentum=0.1, affine=True, track_running_stats=True)\n",
            "      (downsample): Sequential(\n",
            "        (0): Conv2d(64, 128, kernel_size=(1, 1), stride=(2, 2), bias=False)\n",
            "        (1): BatchNorm2d(128, eps=1e-05, momentum=0.1, affine=True, track_running_stats=True)\n",
            "      )\n",
            "    )\n",
            "    (1): BasicBlock(\n",
            "      (conv1): Conv2d(128, 128, kernel_size=(3, 3), stride=(1, 1), padding=(1, 1), bias=False)\n",
            "      (bn1): BatchNorm2d(128, eps=1e-05, momentum=0.1, affine=True, track_running_stats=True)\n",
            "      (relu): ReLU(inplace=True)\n",
            "      (conv2): Conv2d(128, 128, kernel_size=(3, 3), stride=(1, 1), padding=(1, 1), bias=False)\n",
            "      (bn2): BatchNorm2d(128, eps=1e-05, momentum=0.1, affine=True, track_running_stats=True)\n",
            "    )\n",
            "  )\n",
            "  (layer3): Sequential(\n",
            "    (0): BasicBlock(\n",
            "      (conv1): Conv2d(128, 256, kernel_size=(3, 3), stride=(2, 2), padding=(1, 1), bias=False)\n",
            "      (bn1): BatchNorm2d(256, eps=1e-05, momentum=0.1, affine=True, track_running_stats=True)\n",
            "      (relu): ReLU(inplace=True)\n",
            "      (conv2): Conv2d(256, 256, kernel_size=(3, 3), stride=(1, 1), padding=(1, 1), bias=False)\n",
            "      (bn2): BatchNorm2d(256, eps=1e-05, momentum=0.1, affine=True, track_running_stats=True)\n",
            "      (downsample): Sequential(\n",
            "        (0): Conv2d(128, 256, kernel_size=(1, 1), stride=(2, 2), bias=False)\n",
            "        (1): BatchNorm2d(256, eps=1e-05, momentum=0.1, affine=True, track_running_stats=True)\n",
            "      )\n",
            "    )\n",
            "    (1): BasicBlock(\n",
            "      (conv1): Conv2d(256, 256, kernel_size=(3, 3), stride=(1, 1), padding=(1, 1), bias=False)\n",
            "      (bn1): BatchNorm2d(256, eps=1e-05, momentum=0.1, affine=True, track_running_stats=True)\n",
            "      (relu): ReLU(inplace=True)\n",
            "      (conv2): Conv2d(256, 256, kernel_size=(3, 3), stride=(1, 1), padding=(1, 1), bias=False)\n",
            "      (bn2): BatchNorm2d(256, eps=1e-05, momentum=0.1, affine=True, track_running_stats=True)\n",
            "    )\n",
            "  )\n",
            "  (layer4): Sequential(\n",
            "    (0): BasicBlock(\n",
            "      (conv1): Conv2d(256, 512, kernel_size=(3, 3), stride=(2, 2), padding=(1, 1), bias=False)\n",
            "      (bn1): BatchNorm2d(512, eps=1e-05, momentum=0.1, affine=True, track_running_stats=True)\n",
            "      (relu): ReLU(inplace=True)\n",
            "      (conv2): Conv2d(512, 512, kernel_size=(3, 3), stride=(1, 1), padding=(1, 1), bias=False)\n",
            "      (bn2): BatchNorm2d(512, eps=1e-05, momentum=0.1, affine=True, track_running_stats=True)\n",
            "      (downsample): Sequential(\n",
            "        (0): Conv2d(256, 512, kernel_size=(1, 1), stride=(2, 2), bias=False)\n",
            "        (1): BatchNorm2d(512, eps=1e-05, momentum=0.1, affine=True, track_running_stats=True)\n",
            "      )\n",
            "    )\n",
            "    (1): BasicBlock(\n",
            "      (conv1): Conv2d(512, 512, kernel_size=(3, 3), stride=(1, 1), padding=(1, 1), bias=False)\n",
            "      (bn1): BatchNorm2d(512, eps=1e-05, momentum=0.1, affine=True, track_running_stats=True)\n",
            "      (relu): ReLU(inplace=True)\n",
            "      (conv2): Conv2d(512, 512, kernel_size=(3, 3), stride=(1, 1), padding=(1, 1), bias=False)\n",
            "      (bn2): BatchNorm2d(512, eps=1e-05, momentum=0.1, affine=True, track_running_stats=True)\n",
            "    )\n",
            "  )\n",
            "  (avgpool): AdaptiveAvgPool2d(output_size=(1, 1))\n",
            "  (fc): Linear(in_features=512, out_features=5, bias=True)\n",
            ")\n"
          ]
        }
      ],
      "source": [
        "def get_model(act_fn=None, out_classes=len(test_set.classes)):\n",
        "    model = torchvision.models.resnet18(\n",
        "        weights=None)\n",
        "    model.conv1 = torch.nn.Conv2d(1, model.conv1.out_channels, kernel_size=model.conv1.kernel_size,\n",
        "                                  stride=model.conv1.stride, padding=model.conv1.padding, bias=model.conv1.bias)\n",
        "    model.fc = torch.nn.Linear(model.fc.in_features, out_classes)\n",
        "    if act_fn != None:\n",
        "        model.relu = getattr(torch.nn, act_fn)()\n",
        "        for i in range(4):\n",
        "            for j, module in enumerate(model.get_submodule(f'layer{i+1}')):\n",
        "                module.relu = getattr(torch.nn, act_fn)()\n",
        "    model = model.to(device)\n",
        "    return model\n",
        "\n",
        "\n",
        "print(get_model())\n"
      ]
    },
    {
      "cell_type": "code",
      "execution_count": 8,
      "metadata": {
        "id": "s8VjBfg6i5Vb"
      },
      "outputs": [],
      "source": [
        "import time\n",
        "import math\n",
        "\n",
        "\n",
        "def timeSince(since):\n",
        "    now = time.time()\n",
        "    s = now - since\n",
        "    m = math.floor(s / 60)\n",
        "    s -= m * 60\n",
        "    return '%dm %ds' % (m, s)\n"
      ]
    },
    {
      "cell_type": "code",
      "execution_count": 9,
      "metadata": {
        "id": "N8m84pXkiuoq"
      },
      "outputs": [],
      "source": [
        "# Train the model\n",
        "def model_training(model, criterion, optimizer, trainloader, testloader, num_epochs=10):\n",
        "    start = time.time()\n",
        "    loss_list = []\n",
        "    for epoch in range(num_epochs):\n",
        "        epoch_start = time.time()\n",
        "        train_loss = 0.0\n",
        "        val_loss = 0.0\n",
        "        train_acc = 0.0\n",
        "        val_acc = 0.0\n",
        "        for images, labels in trainloader:\n",
        "            images, labels = images.to(device), labels.to(device)\n",
        "            # Forward pass\n",
        "            outputs = model(images)\n",
        "            loss = criterion(outputs, labels)\n",
        "\n",
        "            # Backward and optimize\n",
        "            optimizer.zero_grad()\n",
        "            loss.backward()\n",
        "            optimizer.step()\n",
        "\n",
        "            train_loss += loss.item()\n",
        "            train_acc += metrics.accuracy_score(labels.cpu().detach(\n",
        "            ).numpy(), outputs.cpu().detach().numpy().argmax(axis=1))\n",
        "        # Evaluate the model on the validation set\n",
        "        with torch.no_grad():\n",
        "            for images, labels in testloader:\n",
        "                images, labels = images.to(device), labels.to(device)\n",
        "                outputs = model(images)\n",
        "                loss = criterion(outputs, labels)\n",
        "                val_loss += loss.item()\n",
        "                val_acc += metrics.accuracy_score(labels.cpu().detach(\n",
        "                ).numpy(), outputs.cpu().detach().numpy().argmax(axis=1))\n",
        "        train_loss = train_loss/len(trainloader)\n",
        "        val_loss = val_loss/len(testloader)\n",
        "        train_acc = train_acc/len(trainloader)\n",
        "        val_acc = val_acc/len(testloader)\n",
        "        print(f'Epoch: {epoch+1} ({timeSince(start)}) \\tTraining Loss: {train_loss:.3f}, \\tTest Loss: {val_loss:.3f},  \\tTraining acc: {train_acc:.2f}, \\tTest acc: {val_acc:.2f}, ')\n",
        "        loss_list.append([train_loss, val_loss, train_acc, val_acc])\n",
        "        wandb.log({\"epoch\": epoch+1, \"train/train_loss\": loss, \"val/val_loss\": val_loss,\n",
        "                  \"train/train_accuracy\": train_acc, \"val/val_accuracy\": val_acc, \"epoch_time\": (time.time()-epoch_start)})\n",
        "    print(\n",
        "        f'Training completed in {timeSince(start)} \\tTraining Loss: {loss_list[-1][0]:.3f}, \\tTest Loss: {loss_list[-1][1]:.3f},  \\tTraining acc: {loss_list[-1][2]:.2f}, \\tTest acc: {loss_list[-1][3]:.2f}, ')\n",
        "    return np.array(loss_list), time.time()-start, loss_list[-1][2], loss_list[-1][3]\n"
      ]
    },
    {
      "cell_type": "code",
      "execution_count": 10,
      "metadata": {
        "id": "A33ArbuUk68S"
      },
      "outputs": [],
      "source": [
        "from sklearn import metrics\n",
        "import seaborn as sns\n",
        "#sns.set(rc={'axes.facecolor': 'lightblue', 'figure.facecolor': 'lightblue'})\n",
        "import pandas as pd\n",
        "\n",
        "\n",
        "def confusionMatrixAndAccuracyReport(Y_test, Y_pred, classes, title=''):\n",
        "    cm = metrics.confusion_matrix(Y_test, Y_pred)\n",
        "    overallAccuracy = metrics.accuracy_score(Y_test, Y_pred)\n",
        "\n",
        "    classwiseAccuracy = cm.diagonal()/cm.sum(axis=1)\n",
        "\n",
        "    f1_score = metrics.f1_score(Y_test, Y_pred, average='weighted')\n",
        "\n",
        "    plt.figure(figsize=(10, 10))\n",
        "    plt.title(\n",
        "        f'{title} : Accuracy : {overallAccuracy*100:3.2f}% | F1 Score : {f1_score*100:3.2f}% ', size=14)\n",
        "    plt.ylabel('Actual label')\n",
        "    plt.xlabel('Predicted label')\n",
        "    cm = pd.DataFrame(cm, index=classes, columns=classes)\n",
        "    cm.index.name = 'True Label'\n",
        "    cm.columns.name = 'Predicted Label'\n",
        "    sns.heatmap(data=cm, annot=True, square=True,  cmap='Blues',\n",
        "                fmt='g', xticklabels=classes, yticklabels=classes)\n",
        "\n",
        "    plt.show()\n",
        "    plt.savefig(\n",
        "        f'confusion_mat_{title}_{time.time()}.png', bbox_inches='tight')\n",
        "    print(f'Accuracy: {overallAccuracy*100:3.3f}%')\n",
        "    print(f'F1 Score: {f1_score*100:3.3f}%')\n",
        "    classwiseAccuracy_df = pd.DataFrame(\n",
        "        data=[classwiseAccuracy], columns=classes)\n",
        "    print(\n",
        "        f'\\nClasswise Accuracy Score: \\n{classwiseAccuracy_df.to_markdown(index=False)}')\n",
        "    print('\\nConfusion Matrix:')\n",
        "    print(cm.to_markdown())\n",
        "    wandb.log({\"accuracy_score\": overallAccuracy, \"f1_score\": f1_score, })\n"
      ]
    },
    {
      "cell_type": "code",
      "execution_count": 11,
      "metadata": {
        "id": "DKkLoRgVlKWU"
      },
      "outputs": [],
      "source": [
        "def plot_training_graphs(loss_list):\n",
        "    fig = plt.figure(figsize=(20, 7))\n",
        "    plot = fig.add_subplot(1, 2, 1)\n",
        "    plot.set_title(\"Training vs Validation loss\")\n",
        "    plot.plot(loss_list[:, 0], linestyle='--', label=\"Training Loss\")\n",
        "    plot.plot(loss_list[:, 1], linestyle='-', label=\"Validation Loss\")\n",
        "    plot.set_xlabel(\"Epoch\")\n",
        "    plot.set_ylabel(\"Loss\")\n",
        "    plot.legend()\n",
        "    plot = fig.add_subplot(1, 2, 2)\n",
        "    plot.set_title(\"Training vs Validation Accuracy\")\n",
        "    plot.plot(loss_list[:, 2], linestyle='--', label=\"Training Accuracy\")\n",
        "    plot.plot(loss_list[:, 3], linestyle='-', label=\"Validation Accuracy\")\n",
        "    plot.set_xlabel(\"Epoch\")\n",
        "    plot.set_ylabel(\"Accuracy\")\n",
        "    plot.legend()\n",
        "    plt.show()\n"
      ]
    },
    {
      "cell_type": "code",
      "execution_count": 12,
      "metadata": {
        "id": "xd9yqxpW8D6Z"
      },
      "outputs": [],
      "source": [
        "def log_image_table(images, predicted, labels, probs):\n",
        "    \"Log a wandb.Table with (img, pred, target, scores)\"\n",
        "    # 🐝 Create a wandb Table to log images, labels and predictions to\n",
        "    table = wandb.Table(columns=[\"image\", \"pred\", \"target\"] +\n",
        "                        [test_set.classes[i] for i in range(len(test_set.classes))])\n",
        "    for img, pred, targ, prob in zip(images.to(\"cpu\"), predicted.to(\"cpu\"), labels.to(\"cpu\"), probs.to(\"cpu\")):\n",
        "        table.add_data(wandb.Image(img[0].numpy(\n",
        "        )*255), test_set.classes[pred], test_set.classes[targ], *prob.numpy())\n",
        "    wandb.log({\"predictions_table\": table}, commit=False)\n"
      ]
    },
    {
      "cell_type": "code",
      "execution_count": 19,
      "metadata": {
        "id": "Dj4EQS06obNT"
      },
      "outputs": [],
      "source": [
        "def run_trial(config):\n",
        "    # start a new wandb run to track this script\n",
        "    wandb.init(\n",
        "        # set the wandb project where this run will be logged\n",
        "        project=wandb_project,\n",
        "\n",
        "        # track hyperparameters and run metadata\n",
        "        config=config\n",
        "    )\n",
        "    # Copy your config\n",
        "    config = wandb.config\n",
        "    lr = config.learning_rate\n",
        "    epoch = config.epochs\n",
        "    act_fn = config.activation_fn\n",
        "    optimizer_name = config.optimizer_name\n",
        "\n",
        "    model = get_model(act_fn)\n",
        "    wandb.watch(model)\n",
        "\n",
        "    optimizer = getattr(torch.optim, optimizer_name)(model.parameters(), lr=lr)\n",
        "    criterion = torch.nn.CrossEntropyLoss()\n",
        "    loss_list, t, train_a, test_a = model_training(\n",
        "        model, criterion, optimizer, trainloader, testloader, num_epochs=epoch)\n",
        "    wandb.log({\n",
        "        \"Activation\": act_fn,\n",
        "        \"Optimisers\": optimizer_name,\n",
        "        \"learning_rate\": lr,\n",
        "        \"Epoch\": epoch,\n",
        "        \"Training Time\": t,\n",
        "        \"Training Accuracy\": train_a,\n",
        "        \"Test Accuracy\": test_a,\n",
        "    })\n",
        "    plot_training_graphs(loss_list)\n",
        "    model.eval()\n",
        "    with torch.no_grad():\n",
        "        test_labels = []\n",
        "        test_output = []\n",
        "        for batch_idx, batch in enumerate(testloader):\n",
        "            x, y = batch\n",
        "            x, y = x.to(device), y.to(device)\n",
        "            y_hat = model(x)\n",
        "            test_labels += y.cpu()\n",
        "            test_output += torch.argmax(y_hat, dim=1).cpu()\n",
        "            # Log one batch of images to the dashboard, always same batch_idx.\n",
        "            if batch_idx % 100 == 0:\n",
        "                log_image_table(x, y_hat.argmax(axis=1),\n",
        "                                y, y_hat.softmax(dim=1))\n",
        "\n",
        "        test_labels = np.array(test_labels)\n",
        "        test_output = np.array(test_output)\n",
        "        metric = confusionMatrixAndAccuracyReport(\n",
        "            test_labels, test_output, test_set.classes, title=f'Resnet18_{act_fn}_{optimizer_name}')\n",
        "    # 🐝 Close your wandb run\n",
        "    wandb.finish()\n"
      ]
    },
    {
      "cell_type": "code",
      "execution_count": 14,
      "metadata": {
        "id": "DjIqie81ZHiC"
      },
      "outputs": [],
      "source": [
        "wandb_project = \"m21aie225-lab-assignment-8\"\n",
        "\n"
      ]
    },
    {
      "cell_type": "code",
      "execution_count": 15,
      "metadata": {
        "id": "oDjafiBXobNS"
      },
      "outputs": [],
      "source": [
        "# 2: Define the search space\n",
        "sweep_configuration = {\n",
        "    'method': 'grid',\n",
        "    'metric': {'goal': 'maximize', 'name': 'f1_score'},\n",
        "    'parameters':\n",
        "    {\n",
        "        'learning_rate': {'values': [1e-2, 1e-3, 1e-4, 1e-5, 1e-6]},\n",
        "        'activation_fn': {'values': ['ReLU', 'Tanh', 'GELU']},\n",
        "        'optimizer_name': {'values': ['Adam', 'Adagrad', 'RMSprop', 'SGD']},\n",
        "    }\n",
        "}\n"
      ]
    },
    {
      "cell_type": "code",
      "execution_count": null,
      "metadata": {
        "colab": {
          "base_uri": "https://localhost:8080/",
          "height": 1000,
          "referenced_widgets": [
            "2d87e6b2364745019273ac9f52fb04c7",
            "014785bf4ae54166820069e027981a07",
            "1bd981735ed8420898586db8fcf4931a",
            "bbb169f97b484c4d882bf4dcebe5e60d",
            "9044333a6c104c2e823e9b6143dad01d",
            "c9b081ce206140498ed663697c68f407",
            "0e0816fc5ae242e9968dc09d7b81eb34",
            "97a64f339286433f8d90fb93e028e84b"
          ]
        },
        "id": "cRmjpXS4obNU",
        "outputId": "f6a355a2-3200-4a29-e8d8-1485c9b2ca98"
      },
      "outputs": [
        {
          "output_type": "display_data",
          "data": {
            "text/plain": [
              "<IPython.core.display.HTML object>"
            ],
            "text/html": [
              "Tracking run with wandb version 0.14.2"
            ]
          },
          "metadata": {}
        },
        {
          "output_type": "display_data",
          "data": {
            "text/plain": [
              "<IPython.core.display.HTML object>"
            ],
            "text/html": [
              "Run data is saved locally in <code>/content/wandb/run-20230417_183545-93cjbmm3</code>"
            ]
          },
          "metadata": {}
        },
        {
          "output_type": "display_data",
          "data": {
            "text/plain": [
              "<IPython.core.display.HTML object>"
            ],
            "text/html": [
              "Syncing run <strong><a href='https://wandb.ai/ghosh-11/m21aie225-lab-assignment-8/runs/93cjbmm3' target=\"_blank\">gentle-valley-25</a></strong> to <a href='https://wandb.ai/ghosh-11/m21aie225-lab-assignment-8' target=\"_blank\">Weights & Biases</a> (<a href='https://wandb.me/run' target=\"_blank\">docs</a>)<br/>"
            ]
          },
          "metadata": {}
        },
        {
          "output_type": "display_data",
          "data": {
            "text/plain": [
              "<IPython.core.display.HTML object>"
            ],
            "text/html": [
              " View project at <a href='https://wandb.ai/ghosh-11/m21aie225-lab-assignment-8' target=\"_blank\">https://wandb.ai/ghosh-11/m21aie225-lab-assignment-8</a>"
            ]
          },
          "metadata": {}
        },
        {
          "output_type": "display_data",
          "data": {
            "text/plain": [
              "<IPython.core.display.HTML object>"
            ],
            "text/html": [
              " View run at <a href='https://wandb.ai/ghosh-11/m21aie225-lab-assignment-8/runs/93cjbmm3' target=\"_blank\">https://wandb.ai/ghosh-11/m21aie225-lab-assignment-8/runs/93cjbmm3</a>"
            ]
          },
          "metadata": {}
        },
        {
          "output_type": "stream",
          "name": "stdout",
          "text": [
            "Epoch: 1 (0m 22s) \tTraining Loss: 0.174, \tTest Loss: 0.106,  \tTraining acc: 0.94, \tTest acc: 0.96, \n",
            "Epoch: 2 (0m 44s) \tTraining Loss: 0.101, \tTest Loss: 0.088,  \tTraining acc: 0.97, \tTest acc: 0.97, \n",
            "Epoch: 3 (1m 6s) \tTraining Loss: 0.076, \tTest Loss: 0.085,  \tTraining acc: 0.97, \tTest acc: 0.97, \n",
            "Epoch: 5 (1m 51s) \tTraining Loss: 0.063, \tTest Loss: 0.111,  \tTraining acc: 0.98, \tTest acc: 0.96, \n",
            "Epoch: 6 (2m 13s) \tTraining Loss: 0.058, \tTest Loss: 0.085,  \tTraining acc: 0.98, \tTest acc: 0.97, \n",
            "Epoch: 7 (2m 37s) \tTraining Loss: 0.050, \tTest Loss: 0.086,  \tTraining acc: 0.98, \tTest acc: 0.98, \n",
            "Epoch: 8 (3m 0s) \tTraining Loss: 0.045, \tTest Loss: 0.085,  \tTraining acc: 0.98, \tTest acc: 0.97, \n",
            "Epoch: 9 (3m 23s) \tTraining Loss: 0.041, \tTest Loss: 0.080,  \tTraining acc: 0.99, \tTest acc: 0.98, \n",
            "Epoch: 10 (3m 46s) \tTraining Loss: 0.031, \tTest Loss: 0.079,  \tTraining acc: 0.99, \tTest acc: 0.98, \n",
            "Epoch: 11 (4m 8s) \tTraining Loss: 0.034, \tTest Loss: 0.078,  \tTraining acc: 0.99, \tTest acc: 0.98, \n",
            "Epoch: 12 (4m 31s) \tTraining Loss: 0.029, \tTest Loss: 0.092,  \tTraining acc: 0.99, \tTest acc: 0.98, \n",
            "Epoch: 13 (4m 53s) \tTraining Loss: 0.029, \tTest Loss: 0.082,  \tTraining acc: 0.99, \tTest acc: 0.98, \n",
            "Epoch: 14 (5m 16s) \tTraining Loss: 0.024, \tTest Loss: 0.092,  \tTraining acc: 0.99, \tTest acc: 0.98, \n",
            "Epoch: 15 (5m 38s) \tTraining Loss: 0.023, \tTest Loss: 0.089,  \tTraining acc: 0.99, \tTest acc: 0.98, \n",
            "Epoch: 16 (6m 1s) \tTraining Loss: 0.023, \tTest Loss: 0.101,  \tTraining acc: 0.99, \tTest acc: 0.98, \n",
            "Epoch: 17 (6m 23s) \tTraining Loss: 0.022, \tTest Loss: 0.095,  \tTraining acc: 0.99, \tTest acc: 0.98, \n",
            "Epoch: 18 (6m 46s) \tTraining Loss: 0.019, \tTest Loss: 0.108,  \tTraining acc: 0.99, \tTest acc: 0.98, \n",
            "Epoch: 19 (7m 8s) \tTraining Loss: 0.019, \tTest Loss: 0.079,  \tTraining acc: 0.99, \tTest acc: 0.98, \n",
            "Epoch: 20 (7m 31s) \tTraining Loss: 0.014, \tTest Loss: 0.111,  \tTraining acc: 0.99, \tTest acc: 0.98, \n",
            "Epoch: 21 (7m 53s) \tTraining Loss: 0.017, \tTest Loss: 0.081,  \tTraining acc: 0.99, \tTest acc: 0.98, \n",
            "Epoch: 22 (8m 16s) \tTraining Loss: 0.015, \tTest Loss: 0.115,  \tTraining acc: 1.00, \tTest acc: 0.98, \n",
            "Epoch: 23 (8m 38s) \tTraining Loss: 0.015, \tTest Loss: 0.090,  \tTraining acc: 0.99, \tTest acc: 0.98, \n",
            "Epoch: 24 (9m 1s) \tTraining Loss: 0.011, \tTest Loss: 0.110,  \tTraining acc: 1.00, \tTest acc: 0.98, \n",
            "Epoch: 25 (9m 24s) \tTraining Loss: 0.011, \tTest Loss: 0.096,  \tTraining acc: 1.00, \tTest acc: 0.98, \n",
            "Epoch: 26 (9m 46s) \tTraining Loss: 0.013, \tTest Loss: 0.118,  \tTraining acc: 1.00, \tTest acc: 0.98, \n",
            "Epoch: 27 (10m 9s) \tTraining Loss: 0.009, \tTest Loss: 0.115,  \tTraining acc: 1.00, \tTest acc: 0.97, \n",
            "Epoch: 28 (10m 32s) \tTraining Loss: 0.015, \tTest Loss: 0.080,  \tTraining acc: 1.00, \tTest acc: 0.98, \n",
            "Epoch: 29 (10m 55s) \tTraining Loss: 0.009, \tTest Loss: 0.120,  \tTraining acc: 1.00, \tTest acc: 0.98, \n",
            "Epoch: 30 (11m 18s) \tTraining Loss: 0.009, \tTest Loss: 0.123,  \tTraining acc: 1.00, \tTest acc: 0.98, \n",
            "Training completed in 11m 18s \tTraining Loss: 0.009, \tTest Loss: 0.123,  \tTraining acc: 1.00, \tTest acc: 0.98, \n"
          ]
        },
        {
          "output_type": "display_data",
          "data": {
            "text/plain": [
              "<Figure size 2000x700 with 2 Axes>"
            ],
            "image/png": "[encoded data removed]"
          },
          "metadata": {}
        },
        {
          "output_type": "display_data",
          "data": {
            "text/plain": [
              "<Figure size 1000x1000 with 2 Axes>"
            ],
            "image/png": "[encoded data removed]"
          },
          "metadata": {}
        },
        {
          "output_type": "stream",
          "name": "stdout",
          "text": [
            "Accuracy: 97.660%\n",
            "F1 Score: 97.658%\n",
            "\n",
            "Classwise Accuracy Score: \n",
            "|   Trouser |   Dress |   Sandal |   Sneaker |   Ankle boot |\n",
            "|----------:|--------:|---------:|----------:|-------------:|\n",
            "|     0.982 |   0.997 |    0.982 |     0.952 |         0.97 |\n",
            "\n",
            "Confusion Matrix:\n",
            "| True Label   |   Trouser |   Dress |   Sandal |   Sneaker |   Ankle boot |\n",
            "|:-------------|----------:|--------:|---------:|----------:|-------------:|\n",
            "| Trouser      |       982 |      18 |        0 |         0 |            0 |\n",
            "| Dress        |         3 |     997 |        0 |         0 |            0 |\n",
            "| Sandal       |         0 |       0 |      982 |        14 |            4 |\n",
            "| Sneaker      |         1 |       0 |       22 |       952 |           25 |\n",
            "| Ankle boot   |         0 |       0 |        8 |        22 |          970 |\n"
          ]
        },
        {
          "output_type": "display_data",
          "data": {
            "text/plain": [
              "<IPython.core.display.HTML object>"
            ],
            "text/html": [
              "Waiting for W&B process to finish... <strong style=\"color:green\">(success).</strong>"
            ]
          },
          "metadata": {}
        },
        {
          "output_type": "display_data",
          "data": {
            "text/plain": [
              "VBox(children=(Label(value='0.060 MB of 0.188 MB uploaded (0.000 MB deduped)\\r'), FloatProgress(value=0.315949…"
            ],
            "application/vnd.jupyter.widget-view+json": {
              "version_major": 2,
              "version_minor": 0,
              "model_id": "2d87e6b2364745019273ac9f52fb04c7"
            }
          },
          "metadata": {}
        },
        {
          "output_type": "display_data",
          "data": {
            "text/plain": [
              "<IPython.core.display.HTML object>"
            ],
            "text/html": [
              "<style>\n",
              "    table.wandb td:nth-child(1) { padding: 0 10px; text-align: left ; width: auto;} td:nth-child(2) {text-align: left ; width: 100%}\n",
              "    .wandb-row { display: flex; flex-direction: row; flex-wrap: wrap; justify-content: flex-start; width: 100% }\n",
              "    .wandb-col { display: flex; flex-direction: column; flex-basis: 100%; flex: 1; padding: 10px; }\n",
              "    </style>\n",
              "<div class=\"wandb-row\"><div class=\"wandb-col\"><h3>Run history:</h3><br/><table class=\"wandb\"><tr><td>Epoch</td><td>▁</td></tr><tr><td>Test Accuracy</td><td>▁</td></tr><tr><td>Training Accuracy</td><td>▁</td></tr><tr><td>Training Time</td><td>▁</td></tr><tr><td>accuracy_score</td><td>▁</td></tr><tr><td>epoch</td><td>▁▁▁▂▂▂▂▃▃▃▃▄▄▄▄▅▅▅▅▆▆▆▆▇▇▇▇███</td></tr><tr><td>epoch_time</td><td>▃▁▂▃▃▅██▄▄▃▃▄▃▂▄▃▄▄▃▃▃▄▄▄▁█▅▃▅</td></tr><tr><td>f1_score</td><td>▁</td></tr><tr><td>learning_rate</td><td>▁</td></tr><tr><td>train/train_accuracy</td><td>▁▄▅▅▆▆▆▆▇▇▇▇▇▇▇▇▇▇████████████</td></tr><tr><td>train/train_loss</td><td>▃▁▁▂▅▁▁▁▁▂▁▆▁█▁▁▁▁▄▁▁▃▁▁▁▁▁▁█▁</td></tr><tr><td>val/val_accuracy</td><td>▂▄▄▄▁▅▆▄▇▆▇▆▇▇▇▆▇▇▇▆█▇█▇▇▆▅█▇▆</td></tr><tr><td>val/val_loss</td><td>▅▃▂▃▆▂▂▂▁▁▁▃▂▃▃▅▄▆▁▆▂▇▃▆▄▇▇▁██</td></tr></table><br/></div><div class=\"wandb-col\"><h3>Run summary:</h3><br/><table class=\"wandb\"><tr><td>Activation</td><td>ReLU</td></tr><tr><td>Epoch</td><td>30</td></tr><tr><td>Optimisers</td><td>Adam</td></tr><tr><td>Test Accuracy</td><td>0.97532</td></tr><tr><td>Training Accuracy</td><td>0.99624</td></tr><tr><td>Training Time</td><td>678.04563</td></tr><tr><td>accuracy_score</td><td>0.9766</td></tr><tr><td>epoch</td><td>30</td></tr><tr><td>epoch_time</td><td>22.77008</td></tr><tr><td>f1_score</td><td>0.97658</td></tr><tr><td>learning_rate</td><td>0.001</td></tr><tr><td>train/train_accuracy</td><td>0.99624</td></tr><tr><td>train/train_loss</td><td>3e-05</td></tr><tr><td>val/val_accuracy</td><td>0.97532</td></tr><tr><td>val/val_loss</td><td>0.12277</td></tr></table><br/></div></div>"
            ]
          },
          "metadata": {}
        },
        {
          "output_type": "display_data",
          "data": {
            "text/plain": [
              "<IPython.core.display.HTML object>"
            ],
            "text/html": [
              " View run <strong style=\"color:#cdcd00\">gentle-valley-25</strong> at: <a href='https://wandb.ai/ghosh-11/m21aie225-lab-assignment-8/runs/93cjbmm3' target=\"_blank\">https://wandb.ai/ghosh-11/m21aie225-lab-assignment-8/runs/93cjbmm3</a><br/>Synced 5 W&B file(s), 2 media file(s), 66 artifact file(s) and 1 other file(s)"
            ]
          },
          "metadata": {}
        },
        {
          "output_type": "display_data",
          "data": {
            "text/plain": [
              "<IPython.core.display.HTML object>"
            ],
            "text/html": [
              "Find logs at: <code>./wandb/run-20230417_183545-93cjbmm3/logs</code>"
            ]
          },
          "metadata": {}
        },
        {
          "output_type": "display_data",
          "data": {
            "text/plain": [
              "<IPython.core.display.HTML object>"
            ],
            "text/html": [
              "Tracking run with wandb version 0.14.2"
            ]
          },
          "metadata": {}
        },
        {
          "output_type": "display_data",
          "data": {
            "text/plain": [
              "<IPython.core.display.HTML object>"
            ],
            "text/html": [
              "Run data is saved locally in <code>/content/wandb/run-20230417_184717-tmub8mj4</code>"
            ]
          },
          "metadata": {}
        },
        {
          "output_type": "display_data",
          "data": {
            "text/plain": [
              "<IPython.core.display.HTML object>"
            ],
            "text/html": [
              "Syncing run <strong><a href='https://wandb.ai/ghosh-11/m21aie225-lab-assignment-8/runs/tmub8mj4' target=\"_blank\">colorful-spaceship-26</a></strong> to <a href='https://wandb.ai/ghosh-11/m21aie225-lab-assignment-8' target=\"_blank\">Weights & Biases</a> (<a href='https://wandb.me/run' target=\"_blank\">docs</a>)<br/>"
            ]
          },
          "metadata": {}
        },
        {
          "output_type": "display_data",
          "data": {
            "text/plain": [
              "<IPython.core.display.HTML object>"
            ],
            "text/html": [
              " View project at <a href='https://wandb.ai/ghosh-11/m21aie225-lab-assignment-8' target=\"_blank\">https://wandb.ai/ghosh-11/m21aie225-lab-assignment-8</a>"
            ]
          },
          "metadata": {}
        },
        {
          "output_type": "display_data",
          "data": {
            "text/plain": [
              "<IPython.core.display.HTML object>"
            ],
            "text/html": [
              " View run at <a href='https://wandb.ai/ghosh-11/m21aie225-lab-assignment-8/runs/tmub8mj4' target=\"_blank\">https://wandb.ai/ghosh-11/m21aie225-lab-assignment-8/runs/tmub8mj4</a>"
            ]
          },
          "metadata": {}
        },
        {
          "output_type": "stream",
          "name": "stdout",
          "text": [
            "Epoch: 1 (0m 22s) \tTraining Loss: 0.178, \tTest Loss: 0.132,  \tTraining acc: 0.94, \tTest acc: 0.96, \n",
            "Epoch: 2 (0m 45s) \tTraining Loss: 0.092, \tTest Loss: 0.109,  \tTraining acc: 0.97, \tTest acc: 0.96, \n",
            "Epoch: 3 (1m 7s) \tTraining Loss: 0.065, \tTest Loss: 0.101,  \tTraining acc: 0.98, \tTest acc: 0.96, \n",
            "Epoch: 4 (1m 30s) \tTraining Loss: 0.051, \tTest Loss: 0.102,  \tTraining acc: 0.98, \tTest acc: 0.97, \n",
            "Epoch: 5 (1m 52s) \tTraining Loss: 0.044, \tTest Loss: 0.098,  \tTraining acc: 0.98, \tTest acc: 0.97, \n",
            "Epoch: 6 (2m 14s) \tTraining Loss: 0.035, \tTest Loss: 0.087,  \tTraining acc: 0.99, \tTest acc: 0.97, \n",
            "Epoch: 7 (2m 37s) \tTraining Loss: 0.029, \tTest Loss: 0.123,  \tTraining acc: 0.99, \tTest acc: 0.97, \n",
            "Epoch: 8 (2m 59s) \tTraining Loss: 0.027, \tTest Loss: 0.097,  \tTraining acc: 0.99, \tTest acc: 0.97, \n",
            "Epoch: 9 (3m 22s) \tTraining Loss: 0.022, \tTest Loss: 0.113,  \tTraining acc: 0.99, \tTest acc: 0.97, \n",
            "Epoch: 10 (3m 44s) \tTraining Loss: 0.021, \tTest Loss: 0.094,  \tTraining acc: 0.99, \tTest acc: 0.97, \n"
          ]
        }
      ],
      "source": [
        "activation_fns = ['ReLU','Tanh','GELU']\n",
        "optimisers = ['Adam','Adagrad','RMSprop','SGD']\n",
        "learning_rates = [ 1e-3, 1e-4, 1e-5]\n",
        "epoch = 30\n",
        "\n",
        "for act_fn in activation_fns:\n",
        "    for optimizer_name in optimisers:\n",
        "      for lr in learning_rates:\n",
        "        config={\n",
        "              \"learning_rate\": lr,\n",
        "              \"architecture\": \"ResNet18\",\n",
        "              \"dataset\": \"FashionMNIST\",\n",
        "              \"epochs\": epoch,\n",
        "              'activation_fn': act_fn,\n",
        "              'optimizer_name':optimizer_name,\n",
        "          }\n",
        "        run_trial(config)\n",
        "# 3: Start the sweep\n",
        "#sweep_id = wandb.sweep(sweep=sweep_configuration, project=wandb_project)\n",
        "#wandb.agent(sweep_id, function=run_trial, count=2)"
      ]
    }
  ],
  "metadata": {
    "accelerator": "GPU",
    "colab": {
      "provenance": []
    },
    "gpuClass": "standard",
    "kernelspec": {
      "display_name": "Python 3",
      "name": "python3"
    },
    "language_info": {
      "codemirror_mode": {
        "name": "ipython",
        "version": 3
      },
      "file_extension": ".py",
      "mimetype": "text/x-python",
      "name": "python",
      "nbconvert_exporter": "python",
      "pygments_lexer": "ipython3",
      "version": "3.10.7"
    },
    "widgets": {
      "application/vnd.jupyter.widget-state+json": {
        "2d87e6b2364745019273ac9f52fb04c7": {
          "model_module": "@jupyter-widgets/controls",
          "model_name": "VBoxModel",
          "model_module_version": "1.5.0",
          "state": {
            "_dom_classes": [],
            "_model_module": "@jupyter-widgets/controls",
            "_model_module_version": "1.5.0",
            "_model_name": "VBoxModel",
            "_view_count": null,
            "_view_module": "@jupyter-widgets/controls",
            "_view_module_version": "1.5.0",
            "_view_name": "VBoxView",
            "box_style": "",
            "children": [
              "IPY_MODEL_014785bf4ae54166820069e027981a07",
              "IPY_MODEL_1bd981735ed8420898586db8fcf4931a"
            ],
            "layout": "IPY_MODEL_bbb169f97b484c4d882bf4dcebe5e60d"
          }
        },
        "014785bf4ae54166820069e027981a07": {
          "model_module": "@jupyter-widgets/controls",
          "model_name": "LabelModel",
          "model_module_version": "1.5.0",
          "state": {
            "_dom_classes": [],
            "_model_module": "@jupyter-widgets/controls",
            "_model_module_version": "1.5.0",
            "_model_name": "LabelModel",
            "_view_count": null,
            "_view_module": "@jupyter-widgets/controls",
            "_view_module_version": "1.5.0",
            "_view_name": "LabelView",
            "description": "",
            "description_tooltip": null,
            "layout": "IPY_MODEL_9044333a6c104c2e823e9b6143dad01d",
            "placeholder": "​",
            "style": "IPY_MODEL_c9b081ce206140498ed663697c68f407",
            "value": "0.060 MB of 0.188 MB uploaded (0.000 MB deduped)\r"
          }
        },
        "1bd981735ed8420898586db8fcf4931a": {
          "model_module": "@jupyter-widgets/controls",
          "model_name": "FloatProgressModel",
          "model_module_version": "1.5.0",
          "state": {
            "_dom_classes": [],
            "_model_module": "@jupyter-widgets/controls",
            "_model_module_version": "1.5.0",
            "_model_name": "FloatProgressModel",
            "_view_count": null,
            "_view_module": "@jupyter-widgets/controls",
            "_view_module_version": "1.5.0",
            "_view_name": "ProgressView",
            "bar_style": "",
            "description": "",
            "description_tooltip": null,
            "layout": "IPY_MODEL_0e0816fc5ae242e9968dc09d7b81eb34",
            "max": 1,
            "min": 0,
            "orientation": "horizontal",
            "style": "IPY_MODEL_97a64f339286433f8d90fb93e028e84b",
            "value": 0.315949351707937
          }
        },
        "bbb169f97b484c4d882bf4dcebe5e60d": {
          "model_module": "@jupyter-widgets/base",
          "model_name": "LayoutModel",
          "model_module_version": "1.2.0",
          "state": {
            "_model_module": "@jupyter-widgets/base",
            "_model_module_version": "1.2.0",
            "_model_name": "LayoutModel",
            "_view_count": null,
            "_view_module": "@jupyter-widgets/base",
            "_view_module_version": "1.2.0",
            "_view_name": "LayoutView",
            "align_content": null,
            "align_items": null,
            "align_self": null,
            "border": null,
            "bottom": null,
            "display": null,
            "flex": null,
            "flex_flow": null,
            "grid_area": null,
            "grid_auto_columns": null,
            "grid_auto_flow": null,
            "grid_auto_rows": null,
            "grid_column": null,
            "grid_gap": null,
            "grid_row": null,
            "grid_template_areas": null,
            "grid_template_columns": null,
            "grid_template_rows": null,
            "height": null,
            "justify_content": null,
            "justify_items": null,
            "left": null,
            "margin": null,
            "max_height": null,
            "max_width": null,
            "min_height": null,
            "min_width": null,
            "object_fit": null,
            "object_position": null,
            "order": null,
            "overflow": null,
            "overflow_x": null,
            "overflow_y": null,
            "padding": null,
            "right": null,
            "top": null,
            "visibility": null,
            "width": null
          }
        },
        "9044333a6c104c2e823e9b6143dad01d": {
          "model_module": "@jupyter-widgets/base",
          "model_name": "LayoutModel",
          "model_module_version": "1.2.0",
          "state": {
            "_model_module": "@jupyter-widgets/base",
            "_model_module_version": "1.2.0",
            "_model_name": "LayoutModel",
            "_view_count": null,
            "_view_module": "@jupyter-widgets/base",
            "_view_module_version": "1.2.0",
            "_view_name": "LayoutView",
            "align_content": null,
            "align_items": null,
            "align_self": null,
            "border": null,
            "bottom": null,
            "display": null,
            "flex": null,
            "flex_flow": null,
            "grid_area": null,
            "grid_auto_columns": null,
            "grid_auto_flow": null,
            "grid_auto_rows": null,
            "grid_column": null,
            "grid_gap": null,
            "grid_row": null,
            "grid_template_areas": null,
            "grid_template_columns": null,
            "grid_template_rows": null,
            "height": null,
            "justify_content": null,
            "justify_items": null,
            "left": null,
            "margin": null,
            "max_height": null,
            "max_width": null,
            "min_height": null,
            "min_width": null,
            "object_fit": null,
            "object_position": null,
            "order": null,
            "overflow": null,
            "overflow_x": null,
            "overflow_y": null,
            "padding": null,
            "right": null,
            "top": null,
            "visibility": null,
            "width": null
          }
        },
        "c9b081ce206140498ed663697c68f407": {
          "model_module": "@jupyter-widgets/controls",
          "model_name": "DescriptionStyleModel",
          "model_module_version": "1.5.0",
          "state": {
            "_model_module": "@jupyter-widgets/controls",
            "_model_module_version": "1.5.0",
            "_model_name": "DescriptionStyleModel",
            "_view_count": null,
            "_view_module": "@jupyter-widgets/base",
            "_view_module_version": "1.2.0",
            "_view_name": "StyleView",
            "description_width": ""
          }
        },
        "0e0816fc5ae242e9968dc09d7b81eb34": {
          "model_module": "@jupyter-widgets/base",
          "model_name": "LayoutModel",
          "model_module_version": "1.2.0",
          "state": {
            "_model_module": "@jupyter-widgets/base",
            "_model_module_version": "1.2.0",
            "_model_name": "LayoutModel",
            "_view_count": null,
            "_view_module": "@jupyter-widgets/base",
            "_view_module_version": "1.2.0",
            "_view_name": "LayoutView",
            "align_content": null,
            "align_items": null,
            "align_self": null,
            "border": null,
            "bottom": null,
            "display": null,
            "flex": null,
            "flex_flow": null,
            "grid_area": null,
            "grid_auto_columns": null,
            "grid_auto_flow": null,
            "grid_auto_rows": null,
            "grid_column": null,
            "grid_gap": null,
            "grid_row": null,
            "grid_template_areas": null,
            "grid_template_columns": null,
            "grid_template_rows": null,
            "height": null,
            "justify_content": null,
            "justify_items": null,
            "left": null,
            "margin": null,
            "max_height": null,
            "max_width": null,
            "min_height": null,
            "min_width": null,
            "object_fit": null,
            "object_position": null,
            "order": null,
            "overflow": null,
            "overflow_x": null,
            "overflow_y": null,
            "padding": null,
            "right": null,
            "top": null,
            "visibility": null,
            "width": null
          }
        },
        "97a64f339286433f8d90fb93e028e84b": {
          "model_module": "@jupyter-widgets/controls",
          "model_name": "ProgressStyleModel",
          "model_module_version": "1.5.0",
          "state": {
            "_model_module": "@jupyter-widgets/controls",
            "_model_module_version": "1.5.0",
            "_model_name": "ProgressStyleModel",
            "_view_count": null,
            "_view_module": "@jupyter-widgets/base",
            "_view_module_version": "1.2.0",
            "_view_name": "StyleView",
            "bar_color": null,
            "description_width": ""
          }
        }
      }
    }
  },
  "nbformat": 4,
  "nbformat_minor": 0
}