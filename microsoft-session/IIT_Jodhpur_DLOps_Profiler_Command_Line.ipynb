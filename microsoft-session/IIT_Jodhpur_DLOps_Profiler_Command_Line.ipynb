{
  "nbformat": 4,
  "nbformat_minor": 0,
  "metadata": {
    "colab": {
      "provenance": [],
      "toc_visible": true
    },
    "kernelspec": {
      "name": "python3",
      "display_name": "Python 3"
    },
    "language_info": {
      "name": "python"
    },
    "accelerator": "GPU",
    "gpuClass": "standard"
  },
  "cells": [
    {
      "cell_type": "markdown",
      "source": [
        "# Setup and Installations"
      ],
      "metadata": {
        "id": "aYya7MhawbzM"
      }
    },
    {
      "cell_type": "code",
      "source": [
        "import torch\n",
        "import torchvision.models as models\n",
        "from torch.profiler import profile, record_function, ProfilerActivity"
      ],
      "metadata": {
        "id": "6gWXM7gyfGhH"
      },
      "execution_count": 17,
      "outputs": []
    },
    {
      "cell_type": "markdown",
      "source": [
        "# Model and Data Load"
      ],
      "metadata": {
        "id": "v1Wh9WW2weNp"
      }
    },
    {
      "cell_type": "code",
      "source": [
        "model = models.resnet18()\n",
        "inputs = torch.randn(5, 3, 224, 224)"
      ],
      "metadata": {
        "id": "syctvrNSfHRc"
      },
      "execution_count": 18,
      "outputs": []
    },
    {
      "cell_type": "markdown",
      "source": [
        "# CPU Profiling of the Model for Time"
      ],
      "metadata": {
        "id": "Hc4reXnlwiVi"
      }
    },
    {
      "cell_type": "code",
      "source": [
        "with profile(activities=[ProfilerActivity.CPU], record_shapes=True) as prof:\n",
        "    with record_function(\"model_inference\"):\n",
        "        model(inputs)"
      ],
      "metadata": {
        "id": "szH_RTaWfO_U"
      },
      "execution_count": 19,
      "outputs": []
    },
    {
      "cell_type": "code",
      "source": [
        "print(prof.key_averages().table(sort_by=\"cpu_time_total\", row_limit=10))\n"
      ],
      "metadata": {
        "id": "cpRz9meNfSEs",
        "colab": {
          "base_uri": "https://localhost:8080/"
        },
        "outputId": "5a77ac3f-b344-49c0-8776-485f4390e163"
      },
      "execution_count": 20,
      "outputs": [
        {
          "output_type": "stream",
          "name": "stdout",
          "text": [
            "---------------------------------  ------------  ------------  ------------  ------------  ------------  ------------  \n",
            "                             Name    Self CPU %      Self CPU   CPU total %     CPU total  CPU time avg    # of Calls  \n",
            "---------------------------------  ------------  ------------  ------------  ------------  ------------  ------------  \n",
            "                  model_inference         0.88%       3.134ms        99.99%     357.173ms     357.173ms             1  \n",
            "                     aten::conv2d         0.02%      88.000us        74.64%     266.626ms      13.331ms            20  \n",
            "                aten::convolution         0.09%     327.000us        74.62%     266.538ms      13.327ms            20  \n",
            "               aten::_convolution         0.06%     219.000us        74.53%     266.211ms      13.311ms            20  \n",
            "         aten::mkldnn_convolution        74.40%     265.761ms        74.47%     265.992ms      13.300ms            20  \n",
            "                 aten::batch_norm         0.02%      68.000us        13.30%      47.496ms       2.375ms            20  \n",
            "     aten::_batch_norm_impl_index         0.04%     159.000us        13.28%      47.428ms       2.371ms            20  \n",
            "          aten::native_batch_norm        13.17%      47.051ms        13.23%      47.246ms       2.362ms            20  \n",
            "                 aten::max_pool2d         0.00%       9.000us         9.69%      34.598ms      34.598ms             1  \n",
            "    aten::max_pool2d_with_indices         9.68%      34.589ms         9.68%      34.589ms      34.589ms             1  \n",
            "---------------------------------  ------------  ------------  ------------  ------------  ------------  ------------  \n",
            "Self CPU time total: 357.204ms\n",
            "\n"
          ]
        }
      ]
    },
    {
      "cell_type": "code",
      "source": [
        "print(prof.key_averages(group_by_input_shape=True).table(sort_by=\"cpu_time_total\", row_limit=10))\n"
      ],
      "metadata": {
        "id": "V_9ohU20fWfX",
        "colab": {
          "base_uri": "https://localhost:8080/"
        },
        "outputId": "9a8938be-50e4-4d2e-dcee-eb1b981110c1"
      },
      "execution_count": 21,
      "outputs": [
        {
          "output_type": "stream",
          "name": "stdout",
          "text": [
            "---------------------------------  ------------  ------------  ------------  ------------  ------------  ------------  --------------------------------------------------------------------------------  \n",
            "                             Name    Self CPU %      Self CPU   CPU total %     CPU total  CPU time avg    # of Calls                                                                      Input Shapes  \n",
            "---------------------------------  ------------  ------------  ------------  ------------  ------------  ------------  --------------------------------------------------------------------------------  \n",
            "                  model_inference         0.88%       3.134ms        99.99%     357.173ms     357.173ms             1                                                                                []  \n",
            "                     aten::conv2d         0.01%      22.000us        17.96%      64.159ms      16.040ms             4                             [[5, 64, 56, 56], [64, 64, 3, 3], [], [], [], [], []]  \n",
            "                aten::convolution         0.02%      66.000us        17.96%      64.137ms      16.034ms             4                     [[5, 64, 56, 56], [64, 64, 3, 3], [], [], [], [], [], [], []]  \n",
            "               aten::_convolution         0.01%      50.000us        17.94%      64.071ms      16.018ms             4     [[5, 64, 56, 56], [64, 64, 3, 3], [], [], [], [], [], [], [], [], [], [], []]  \n",
            "         aten::mkldnn_convolution        17.91%      63.963ms        17.92%      64.021ms      16.005ms             4                             [[5, 64, 56, 56], [64, 64, 3, 3], [], [], [], [], []]  \n",
            "                     aten::conv2d         0.00%       9.000us        14.81%      52.908ms      17.636ms             3                            [[5, 512, 7, 7], [512, 512, 3, 3], [], [], [], [], []]  \n",
            "                aten::convolution         0.02%      55.000us        14.81%      52.899ms      17.633ms             3                    [[5, 512, 7, 7], [512, 512, 3, 3], [], [], [], [], [], [], []]  \n",
            "               aten::_convolution         0.01%      25.000us        14.79%      52.844ms      17.615ms             3    [[5, 512, 7, 7], [512, 512, 3, 3], [], [], [], [], [], [], [], [], [], [], []]  \n",
            "         aten::mkldnn_convolution        14.78%      52.785ms        14.79%      52.819ms      17.606ms             3                            [[5, 512, 7, 7], [512, 512, 3, 3], [], [], [], [], []]  \n",
            "                     aten::conv2d         0.00%      11.000us        13.95%      49.818ms      16.606ms             3                          [[5, 256, 14, 14], [256, 256, 3, 3], [], [], [], [], []]  \n",
            "---------------------------------  ------------  ------------  ------------  ------------  ------------  ------------  --------------------------------------------------------------------------------  \n",
            "Self CPU time total: 357.204ms\n",
            "\n"
          ]
        }
      ]
    },
    {
      "cell_type": "markdown",
      "source": [
        "# CPU Profiling of the Model for Memory "
      ],
      "metadata": {
        "id": "hU7ngPV9wpCj"
      }
    },
    {
      "cell_type": "code",
      "source": [
        "with profile(activities=[ProfilerActivity.CPU],\n",
        "        profile_memory=True, record_shapes=True) as prof:\n",
        "    model(inputs)\n",
        "\n",
        "print(prof.key_averages().table(sort_by=\"self_cpu_memory_usage\", row_limit=10))"
      ],
      "metadata": {
        "id": "wDpMcijGg1nX",
        "colab": {
          "base_uri": "https://localhost:8080/"
        },
        "outputId": "c118a8e8-8c4b-45df-a1a4-49e52bc85e3e"
      },
      "execution_count": 22,
      "outputs": [
        {
          "output_type": "stream",
          "name": "stdout",
          "text": [
            "---------------------------------  ------------  ------------  ------------  ------------  ------------  ------------  ------------  ------------  \n",
            "                             Name    Self CPU %      Self CPU   CPU total %     CPU total  CPU time avg       CPU Mem  Self CPU Mem    # of Calls  \n",
            "---------------------------------  ------------  ------------  ------------  ------------  ------------  ------------  ------------  ------------  \n",
            "                      aten::empty         0.11%     411.000us         0.11%     411.000us       2.055us      94.36 Mb      94.36 Mb           200  \n",
            "    aten::max_pool2d_with_indices         9.12%      33.561ms         9.12%      33.561ms      33.561ms      11.48 Mb      11.48 Mb             1  \n",
            "                 aten::empty_like         0.03%     106.000us         0.06%     204.000us      10.200us      47.37 Mb     490.00 Kb            20  \n",
            "                      aten::addmm         0.09%     339.000us         0.09%     349.000us     349.000us      19.53 Kb      19.53 Kb             1  \n",
            "                       aten::mean         0.01%      22.000us         0.03%     111.000us     111.000us      10.00 Kb       9.99 Kb             1  \n",
            "                       aten::div_         0.00%      16.000us         0.01%      37.000us      37.000us           8 b           4 b             1  \n",
            "              aten::empty_strided         0.00%       3.000us         0.00%       3.000us       3.000us           4 b           4 b             1  \n",
            "                     aten::conv2d         0.03%      98.000us        76.14%     280.072ms      14.004ms      47.37 Mb           0 b            20  \n",
            "                aten::convolution         0.09%     338.000us        76.11%     279.974ms      13.999ms      47.37 Mb           0 b            20  \n",
            "               aten::_convolution         0.05%     192.000us        76.02%     279.636ms      13.982ms      47.37 Mb           0 b            20  \n",
            "---------------------------------  ------------  ------------  ------------  ------------  ------------  ------------  ------------  ------------  \n",
            "Self CPU time total: 367.850ms\n",
            "\n"
          ]
        }
      ]
    },
    {
      "cell_type": "markdown",
      "source": [
        "# GPU Profiling of the Model for Time"
      ],
      "metadata": {
        "id": "QTBRqvoVwvNy"
      }
    },
    {
      "cell_type": "code",
      "source": [
        "model = models.resnet18().cuda()\n",
        "inputs = torch.randn(5, 3, 224, 224).cuda()\n",
        "\n",
        "with profile(activities=[\n",
        "        ProfilerActivity.CPU, ProfilerActivity.CUDA], record_shapes=True) as prof:\n",
        "    with record_function(\"model_inference\"):\n",
        "        model(inputs)\n",
        "\n",
        "print(prof.key_averages().table(sort_by=\"cuda_time_total\", row_limit=10))"
      ],
      "metadata": {
        "id": "PSDc97dzgNK0",
        "colab": {
          "base_uri": "https://localhost:8080/"
        },
        "outputId": "8d3a4cbc-294f-436c-9a76-52277cd7065e"
      },
      "execution_count": 23,
      "outputs": [
        {
          "output_type": "stream",
          "name": "stdout",
          "text": [
            "-------------------------------------------------------  ------------  ------------  ------------  ------------  ------------  ------------  ------------  ------------  ------------  ------------  \n",
            "                                                   Name    Self CPU %      Self CPU   CPU total %     CPU total  CPU time avg     Self CUDA   Self CUDA %    CUDA total  CUDA time avg    # of Calls  \n",
            "-------------------------------------------------------  ------------  ------------  ------------  ------------  ------------  ------------  ------------  ------------  ------------  ------------  \n",
            "                                        model_inference        17.12%       2.109ms        80.03%       9.857ms       9.857ms       0.000us         0.00%      10.095ms      10.095ms             1  \n",
            "                                           aten::conv2d         0.61%      75.000us        36.96%       4.552ms     227.600us       0.000us         0.00%       8.209ms     410.450us            20  \n",
            "                                      aten::convolution         1.79%     220.000us        36.35%       4.477ms     223.850us       0.000us         0.00%       8.209ms     410.450us            20  \n",
            "                                     aten::_convolution         1.14%     140.000us        34.56%       4.257ms     212.850us       0.000us         0.00%       8.209ms     410.450us            20  \n",
            "                                aten::cudnn_convolution        22.01%       2.711ms        33.43%       4.117ms     205.850us       8.209ms        81.32%       8.209ms     410.450us            20  \n",
            "volta_scudnn_winograd_128x128_ldg1_ldg4_relu_tile148...         0.00%       0.000us         0.00%       0.000us       0.000us       5.594ms        55.41%       5.594ms     430.308us            13  \n",
            "                                       aten::batch_norm         0.37%      46.000us        15.38%       1.894ms      94.700us       0.000us         0.00%       1.045ms      52.250us            20  \n",
            "                           aten::_batch_norm_impl_index         0.67%      82.000us        15.00%       1.848ms      92.400us       0.000us         0.00%       1.045ms      52.250us            20  \n",
            "                                 aten::cudnn_batch_norm         7.71%     949.000us        14.34%       1.766ms      88.300us       1.045ms        10.35%       1.045ms      52.250us            20  \n",
            "                   volta_scudnn_128x64_relu_small_nn_v1         0.00%       0.000us         0.00%       0.000us       0.000us     623.000us         6.17%     623.000us     623.000us             1  \n",
            "-------------------------------------------------------  ------------  ------------  ------------  ------------  ------------  ------------  ------------  ------------  ------------  ------------  \n",
            "Self CPU time total: 12.316ms\n",
            "Self CUDA time total: 10.095ms\n",
            "\n"
          ]
        }
      ]
    },
    {
      "cell_type": "markdown",
      "source": [
        "# GPU Profiling of the Model for Memory"
      ],
      "metadata": {
        "id": "HpoR902Pwx56"
      }
    },
    {
      "cell_type": "code",
      "source": [
        "with profile(activities=[ProfilerActivity.CPU, ProfilerActivity.CUDA],\n",
        "        profile_memory=True, record_shapes=True) as prof:\n",
        "    model(inputs)\n",
        "\n",
        "print(prof.key_averages().table(sort_by=\"self_cpu_memory_usage\", row_limit=10))"
      ],
      "metadata": {
        "id": "wn1atLT5g9RA",
        "colab": {
          "base_uri": "https://localhost:8080/"
        },
        "outputId": "cb995b52-22e1-4f10-e24f-a223deac1bf7"
      },
      "execution_count": 24,
      "outputs": [
        {
          "output_type": "stream",
          "name": "stdout",
          "text": [
            "-------------------------------------------------------  ------------  ------------  ------------  ------------  ------------  ------------  ------------  ------------  ------------  ------------  ------------  ------------  ------------  ------------  \n",
            "                                                   Name    Self CPU %      Self CPU   CPU total %     CPU total  CPU time avg     Self CUDA   Self CUDA %    CUDA total  CUDA time avg       CPU Mem  Self CPU Mem      CUDA Mem  Self CUDA Mem    # of Calls  \n",
            "-------------------------------------------------------  ------------  ------------  ------------  ------------  ------------  ------------  ------------  ------------  ------------  ------------  ------------  ------------  ------------  ------------  \n",
            "                                           aten::conv2d         0.97%     109.000us        46.29%       5.218ms     260.900us       0.000us         0.00%       8.227ms     411.350us           0 b           0 b      49.95 Mb           0 b            20  \n",
            "                                      aten::convolution         2.56%     289.000us        45.32%       5.109ms     255.450us       0.000us         0.00%       8.227ms     411.350us           0 b           0 b      49.95 Mb           0 b            20  \n",
            "                                     aten::_convolution         1.53%     172.000us        42.76%       4.820ms     241.000us       0.000us         0.00%       8.227ms     411.350us           0 b           0 b      49.95 Mb           0 b            20  \n",
            "                                aten::cudnn_convolution        24.78%       2.793ms        41.23%       4.648ms     232.400us       8.227ms        81.33%       8.227ms     411.350us           0 b           0 b      49.95 Mb     -63.75 Mb            20  \n",
            "                                  cudaStreamIsCapturing         0.23%      26.000us         0.23%      26.000us       0.650us       0.000us         0.00%       0.000us       0.000us           0 b           0 b           0 b           0 b            40  \n",
            "                                  cudaStreamGetPriority         0.04%       4.000us         0.04%       4.000us       0.100us       0.000us         0.00%       0.000us       0.000us           0 b           0 b           0 b           0 b            40  \n",
            "                       cudaDeviceGetStreamPriorityRange         0.01%       1.000us         0.01%       1.000us       0.025us       0.000us         0.00%       0.000us       0.000us           0 b           0 b           0 b           0 b            40  \n",
            "                                            aten::empty         6.91%     779.000us         6.91%     779.000us       6.438us       0.000us         0.00%       0.000us       0.000us           0 b           0 b     162.12 Mb     162.12 Mb           121  \n",
            "                                       cudaLaunchKernel        22.99%       2.592ms        22.99%       2.592ms      23.351us       0.000us         0.00%       0.000us       0.000us           0 b           0 b           0 b           0 b           111  \n",
            "void cask_cudnn::computeOffsetsKernel<false, false>(...         0.00%       0.000us         0.00%       0.000us       0.000us      34.000us         0.34%      34.000us       4.857us           0 b           0 b           0 b           0 b             7  \n",
            "-------------------------------------------------------  ------------  ------------  ------------  ------------  ------------  ------------  ------------  ------------  ------------  ------------  ------------  ------------  ------------  ------------  \n",
            "Self CPU time total: 11.273ms\n",
            "Self CUDA time total: 10.115ms\n",
            "\n"
          ]
        }
      ]
    },
    {
      "cell_type": "code",
      "source": [],
      "metadata": {
        "id": "mLRp-2zQhZhx"
      },
      "execution_count": 24,
      "outputs": []
    }
  ]
}